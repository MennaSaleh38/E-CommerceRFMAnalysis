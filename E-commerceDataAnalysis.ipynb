{
 "cells": [
  {
   "cell_type": "markdown",
   "id": "5128b96d",
   "metadata": {},
   "source": [
    "# Project: E-Commerce Data Analysis\n",
    "\n",
    "\n",
    "## Table of Contents\n",
    "<ul>\n",
    "<li><a href=\"#intro\">Introduction</a></li>\n",
    "<li><a href=\"#wrangling\">Data Wrangling</a></li>\n",
    "    <ul> \n",
    "       <li><a href=\"#read\">Reading and Exploring Data From source</a></li>  \n",
    "      <li><a href=\"#remove\">Removing nulls and duplicates</a></li>\n",
    "      <li><a href=\"#neg\">Filtering dataset to neglect negative values</a></li> \n",
    "      <li><a href=\"#changedata\">Changing datatypes </a></li> \n",
    "       <li><a href=\"#add\">Adding new columns </a></li> \n",
    "       <li><a href=\"#edit\">Editting the Country Column  </a></li>  \n",
    "    </ul>\n",
    "<li><a href=\"#eda\">Exploratory Data Analysis</a></li>\n",
    "    <ul>\n",
    "     <li><a href=\"#Q1\">Q1:Which countries made the most orders?and which country made the highest sales?\n",
    "     <li><a href=\"#Q2\"> Q2: Which item was sold the most? and which items made the highest sales?\n",
    "     <li><a href=\"#Q3\"> Q3: Which Customer made the most purchases? and which customer spent the most? \n",
    "     <li><a href=\"#Q4\">Q4:Which year had the most sales? and which month in that year?\n",
    "    </ul>   \n",
    "         \n",
    "<li><a href=\"RFM\">RFM Analysis and Customer Segmentation</a></li>     \n",
    "<li><a href=\"#conclusions\">Conclusions</a></li>\n",
    "</ul>"
   ]
  },
  {
   "cell_type": "markdown",
   "id": "a3e0b42a",
   "metadata": {},
   "source": [
    "<a id='intro'></a>\n",
    "## Introduction\n",
    "\n",
    "In this notebook we will be using some python libraries to analyze data on actualtransactions occurring between 01/12/2010 and 09/12/2011 for a UK-based online retailer. The company mainly sells unique all-occasion gifts.  . The main target the business wants to reach is to create a new customer segmentation based on customers purchases by a marketing technique called RFM analysis (Recency,Frequence,Monetary).\n",
    "\n",
    "This dateset is brought by [kaggle](https://www.kaggle.com/code/vincentvaseghi/e-commerce-data-analysis-customer-segmentation)."
   ]
  },
  {
   "cell_type": "markdown",
   "id": "74213d2c",
   "metadata": {},
   "source": [
    "<a id='wrangling'></a>\n",
    "## Data Wrangling"
   ]
  },
  {
   "cell_type": "markdown",
   "id": "5d4a5145",
   "metadata": {},
   "source": [
    "<a id='read'></a>\n",
    "\n",
    "### Reading and Exploring data from source:"
   ]
  },
  {
   "cell_type": "code",
   "execution_count": 1,
   "id": "5bd5e742",
   "metadata": {},
   "outputs": [],
   "source": [
    "import pandas as pd \n",
    "import numpy as np\n",
    "import datetime\n",
    "import matplotlib.pyplot as plt\n",
    "import seaborn as sns\n",
    "%matplotlib inline \n",
    "\n",
    "df=pd.read_csv('data.csv',encoding = 'ISO-8859-1')"
   ]
  },
  {
   "cell_type": "code",
   "execution_count": 2,
   "id": "e37a65f5",
   "metadata": {},
   "outputs": [
    {
     "data": {
      "text/html": [
       "<div>\n",
       "<style scoped>\n",
       "    .dataframe tbody tr th:only-of-type {\n",
       "        vertical-align: middle;\n",
       "    }\n",
       "\n",
       "    .dataframe tbody tr th {\n",
       "        vertical-align: top;\n",
       "    }\n",
       "\n",
       "    .dataframe thead th {\n",
       "        text-align: right;\n",
       "    }\n",
       "</style>\n",
       "<table border=\"1\" class=\"dataframe\">\n",
       "  <thead>\n",
       "    <tr style=\"text-align: right;\">\n",
       "      <th></th>\n",
       "      <th>InvoiceNo</th>\n",
       "      <th>StockCode</th>\n",
       "      <th>Description</th>\n",
       "      <th>Quantity</th>\n",
       "      <th>InvoiceDate</th>\n",
       "      <th>UnitPrice</th>\n",
       "      <th>CustomerID</th>\n",
       "      <th>Country</th>\n",
       "    </tr>\n",
       "  </thead>\n",
       "  <tbody>\n",
       "    <tr>\n",
       "      <th>0</th>\n",
       "      <td>536365</td>\n",
       "      <td>85123A</td>\n",
       "      <td>WHITE HANGING HEART T-LIGHT HOLDER</td>\n",
       "      <td>6</td>\n",
       "      <td>12/1/2010 8:26</td>\n",
       "      <td>2.55</td>\n",
       "      <td>17850.0</td>\n",
       "      <td>United Kingdom</td>\n",
       "    </tr>\n",
       "    <tr>\n",
       "      <th>1</th>\n",
       "      <td>536365</td>\n",
       "      <td>71053</td>\n",
       "      <td>WHITE METAL LANTERN</td>\n",
       "      <td>6</td>\n",
       "      <td>12/1/2010 8:26</td>\n",
       "      <td>3.39</td>\n",
       "      <td>17850.0</td>\n",
       "      <td>United Kingdom</td>\n",
       "    </tr>\n",
       "    <tr>\n",
       "      <th>2</th>\n",
       "      <td>536365</td>\n",
       "      <td>84406B</td>\n",
       "      <td>CREAM CUPID HEARTS COAT HANGER</td>\n",
       "      <td>8</td>\n",
       "      <td>12/1/2010 8:26</td>\n",
       "      <td>2.75</td>\n",
       "      <td>17850.0</td>\n",
       "      <td>United Kingdom</td>\n",
       "    </tr>\n",
       "    <tr>\n",
       "      <th>3</th>\n",
       "      <td>536365</td>\n",
       "      <td>84029G</td>\n",
       "      <td>KNITTED UNION FLAG HOT WATER BOTTLE</td>\n",
       "      <td>6</td>\n",
       "      <td>12/1/2010 8:26</td>\n",
       "      <td>3.39</td>\n",
       "      <td>17850.0</td>\n",
       "      <td>United Kingdom</td>\n",
       "    </tr>\n",
       "    <tr>\n",
       "      <th>4</th>\n",
       "      <td>536365</td>\n",
       "      <td>84029E</td>\n",
       "      <td>RED WOOLLY HOTTIE WHITE HEART.</td>\n",
       "      <td>6</td>\n",
       "      <td>12/1/2010 8:26</td>\n",
       "      <td>3.39</td>\n",
       "      <td>17850.0</td>\n",
       "      <td>United Kingdom</td>\n",
       "    </tr>\n",
       "  </tbody>\n",
       "</table>\n",
       "</div>"
      ],
      "text/plain": [
       "  InvoiceNo StockCode                          Description  Quantity  \\\n",
       "0    536365    85123A   WHITE HANGING HEART T-LIGHT HOLDER         6   \n",
       "1    536365     71053                  WHITE METAL LANTERN         6   \n",
       "2    536365    84406B       CREAM CUPID HEARTS COAT HANGER         8   \n",
       "3    536365    84029G  KNITTED UNION FLAG HOT WATER BOTTLE         6   \n",
       "4    536365    84029E       RED WOOLLY HOTTIE WHITE HEART.         6   \n",
       "\n",
       "      InvoiceDate  UnitPrice  CustomerID         Country  \n",
       "0  12/1/2010 8:26       2.55     17850.0  United Kingdom  \n",
       "1  12/1/2010 8:26       3.39     17850.0  United Kingdom  \n",
       "2  12/1/2010 8:26       2.75     17850.0  United Kingdom  \n",
       "3  12/1/2010 8:26       3.39     17850.0  United Kingdom  \n",
       "4  12/1/2010 8:26       3.39     17850.0  United Kingdom  "
      ]
     },
     "execution_count": 2,
     "metadata": {},
     "output_type": "execute_result"
    }
   ],
   "source": [
    "df.head()"
   ]
  },
  {
   "cell_type": "code",
   "execution_count": 3,
   "id": "27045bd5",
   "metadata": {},
   "outputs": [
    {
     "name": "stdout",
     "output_type": "stream",
     "text": [
      "<class 'pandas.core.frame.DataFrame'>\n",
      "RangeIndex: 541909 entries, 0 to 541908\n",
      "Data columns (total 8 columns):\n",
      " #   Column       Non-Null Count   Dtype  \n",
      "---  ------       --------------   -----  \n",
      " 0   InvoiceNo    541909 non-null  object \n",
      " 1   StockCode    541909 non-null  object \n",
      " 2   Description  540455 non-null  object \n",
      " 3   Quantity     541909 non-null  int64  \n",
      " 4   InvoiceDate  541909 non-null  object \n",
      " 5   UnitPrice    541909 non-null  float64\n",
      " 6   CustomerID   406829 non-null  float64\n",
      " 7   Country      541909 non-null  object \n",
      "dtypes: float64(2), int64(1), object(5)\n",
      "memory usage: 33.1+ MB\n"
     ]
    }
   ],
   "source": [
    "df.info()"
   ]
  },
  {
   "cell_type": "markdown",
   "id": "1f98f96e",
   "metadata": {},
   "source": [
    "*We have 8 columns and 541909 rows*\n",
    "\n",
    "**InvoiceNo**: The invoice number of each order ,type: string, we shall leave it as it is(Identifier)\n",
    "\n",
    "**StockCode**: Item code,type: string. We shall leave it as it is- Identifiers and it has both letters and numbers.\n",
    "\n",
    "**Description**: Product Name, type: String\n",
    "\n",
    "**Quantity**: the quantity of the item purchased. type: int64\n",
    "\n",
    "**InvoiceDate**: Date of transaction. type: String. *Needs to be changed to datetime format*\n",
    "\n",
    "**UnitPrice**: product price per unit. type:float. \n",
    "\n",
    "**CustomerID**: Customer Identifier, type: float *Needs to be changed to intger and then to a string*\n",
    "\n",
    "**Country**: Country of the customer.Type :string\n",
    "\n",
    "*I would suggest adding a new column called **TotalItemsPrice**,which is equal to the(unit price * quantity)*\n",
    "\n",
    "*We can also add month and year column to help in furthur analysis*"
   ]
  },
  {
   "cell_type": "code",
   "execution_count": 4,
   "id": "6176b9fe",
   "metadata": {},
   "outputs": [
    {
     "data": {
      "text/plain": [
       "InvoiceNo           0\n",
       "StockCode           0\n",
       "Description      1454\n",
       "Quantity            0\n",
       "InvoiceDate         0\n",
       "UnitPrice           0\n",
       "CustomerID     135080\n",
       "Country             0\n",
       "dtype: int64"
      ]
     },
     "execution_count": 4,
     "metadata": {},
     "output_type": "execute_result"
    }
   ],
   "source": [
    "df.isnull().sum()"
   ]
  },
  {
   "cell_type": "markdown",
   "id": "9b73fca8",
   "metadata": {},
   "source": [
    "We have 1454 nulls in Description \n",
    "\n",
    "We have 135080 nulls in CustomerID, we shall remove those nulls as they would have a great impact on our analysis.\n"
   ]
  },
  {
   "cell_type": "code",
   "execution_count": 5,
   "id": "9903dc8f",
   "metadata": {},
   "outputs": [
    {
     "data": {
      "text/plain": [
       "5268"
      ]
     },
     "execution_count": 5,
     "metadata": {},
     "output_type": "execute_result"
    }
   ],
   "source": [
    "df.duplicated().sum()"
   ]
  },
  {
   "cell_type": "markdown",
   "id": "16bdfc53",
   "metadata": {},
   "source": [
    "We have 5268 rows that are duplicated and must be removed before analysing data "
   ]
  },
  {
   "cell_type": "code",
   "execution_count": 6,
   "id": "39bee009",
   "metadata": {},
   "outputs": [
    {
     "data": {
      "text/plain": [
       "count    541909.000000\n",
       "mean          9.552250\n",
       "std         218.081158\n",
       "min      -80995.000000\n",
       "25%           1.000000\n",
       "50%           3.000000\n",
       "75%          10.000000\n",
       "max       80995.000000\n",
       "Name: Quantity, dtype: float64"
      ]
     },
     "execution_count": 6,
     "metadata": {},
     "output_type": "execute_result"
    }
   ],
   "source": [
    "df['Quantity'].describe()"
   ]
  },
  {
   "cell_type": "markdown",
   "id": "1612cb99",
   "metadata": {},
   "source": [
    "The minimum quantity is negative value. This needs to fixed and removed from our dataset"
   ]
  },
  {
   "cell_type": "code",
   "execution_count": 7,
   "id": "6ae32f4d",
   "metadata": {},
   "outputs": [
    {
     "data": {
      "text/plain": [
       "count    541909.000000\n",
       "mean          4.611114\n",
       "std          96.759853\n",
       "min      -11062.060000\n",
       "25%           1.250000\n",
       "50%           2.080000\n",
       "75%           4.130000\n",
       "max       38970.000000\n",
       "Name: UnitPrice, dtype: float64"
      ]
     },
     "execution_count": 7,
     "metadata": {},
     "output_type": "execute_result"
    }
   ],
   "source": [
    "df['UnitPrice'].describe()"
   ]
  },
  {
   "cell_type": "markdown",
   "id": "9f25aea3",
   "metadata": {},
   "source": [
    "The minimum UnitPrice is a negative number. This also needs to be fixed and removed from our dataset"
   ]
  },
  {
   "cell_type": "code",
   "execution_count": 8,
   "id": "a9240ff4",
   "metadata": {},
   "outputs": [
    {
     "data": {
      "text/plain": [
       "count    406829.000000\n",
       "mean      15287.690570\n",
       "std        1713.600303\n",
       "min       12346.000000\n",
       "25%       13953.000000\n",
       "50%       15152.000000\n",
       "75%       16791.000000\n",
       "max       18287.000000\n",
       "Name: CustomerID, dtype: float64"
      ]
     },
     "execution_count": 8,
     "metadata": {},
     "output_type": "execute_result"
    }
   ],
   "source": [
    "df['CustomerID'].describe()"
   ]
  },
  {
   "cell_type": "markdown",
   "id": "d574e916",
   "metadata": {},
   "source": [
    "Nothing needs to be removed from CustomerID except the nulls. "
   ]
  },
  {
   "cell_type": "code",
   "execution_count": 9,
   "id": "1b4680a8",
   "metadata": {},
   "outputs": [
    {
     "data": {
      "text/plain": [
       "United Kingdom          495478\n",
       "Germany                   9495\n",
       "France                    8557\n",
       "EIRE                      8196\n",
       "Spain                     2533\n",
       "Netherlands               2371\n",
       "Belgium                   2069\n",
       "Switzerland               2002\n",
       "Portugal                  1519\n",
       "Australia                 1259\n",
       "Norway                    1086\n",
       "Italy                      803\n",
       "Channel Islands            758\n",
       "Finland                    695\n",
       "Cyprus                     622\n",
       "Sweden                     462\n",
       "Unspecified                446\n",
       "Austria                    401\n",
       "Denmark                    389\n",
       "Japan                      358\n",
       "Poland                     341\n",
       "Israel                     297\n",
       "USA                        291\n",
       "Hong Kong                  288\n",
       "Singapore                  229\n",
       "Iceland                    182\n",
       "Canada                     151\n",
       "Greece                     146\n",
       "Malta                      127\n",
       "United Arab Emirates        68\n",
       "European Community          61\n",
       "RSA                         58\n",
       "Lebanon                     45\n",
       "Lithuania                   35\n",
       "Brazil                      32\n",
       "Czech Republic              30\n",
       "Bahrain                     19\n",
       "Saudi Arabia                10\n",
       "Name: Country, dtype: int64"
      ]
     },
     "execution_count": 9,
     "metadata": {},
     "output_type": "execute_result"
    }
   ],
   "source": [
    "df['Country'].value_counts()"
   ]
  },
  {
   "cell_type": "markdown",
   "id": "79aa8d81",
   "metadata": {},
   "source": [
    "We have Unspecified countries and European Community, both can be removed from our dataset as they don't mention a specific country.\n",
    "Eire means Ireland, and RSA means the Republic of South Africa. We can change both of them to make it easier in reading our \n",
    "analysis. "
   ]
  },
  {
   "cell_type": "markdown",
   "id": "d4307161",
   "metadata": {},
   "source": [
    "<a id='remove'></a>\n",
    "\n",
    "### Removing nulls and duplicates:"
   ]
  },
  {
   "cell_type": "code",
   "execution_count": 10,
   "id": "c2a6bd3d",
   "metadata": {},
   "outputs": [
    {
     "data": {
      "text/plain": [
       "InvoiceNo      0\n",
       "StockCode      0\n",
       "Description    0\n",
       "Quantity       0\n",
       "InvoiceDate    0\n",
       "UnitPrice      0\n",
       "CustomerID     0\n",
       "Country        0\n",
       "dtype: int64"
      ]
     },
     "execution_count": 10,
     "metadata": {},
     "output_type": "execute_result"
    }
   ],
   "source": [
    "#Removing nulls in CustomerID column\n",
    "\n",
    "null_index=list(df[df['CustomerID'].isnull()==True].index) #Creating a list with the index number of null values\n",
    "\n",
    "df.drop(null_index,axis=0,inplace=True) #droppnig these indicies from our dataset\n",
    "\n",
    "df.isnull().sum() #doublechecking that we have no nulls in ourdataset"
   ]
  },
  {
   "cell_type": "markdown",
   "id": "23626557",
   "metadata": {},
   "source": [
    "The null values in Description have been removed as well. This is great as we do not have any nulls in our dataset anymore. "
   ]
  },
  {
   "cell_type": "code",
   "execution_count": 11,
   "id": "0f2e390a",
   "metadata": {},
   "outputs": [
    {
     "data": {
      "text/plain": [
       "0"
      ]
     },
     "execution_count": 11,
     "metadata": {},
     "output_type": "execute_result"
    }
   ],
   "source": [
    "#Removing duplicated values\n",
    "df.drop_duplicates(inplace=True)\n",
    "\n",
    "#Making sure that we do not have anymore duplicated values\n",
    "df.duplicated().sum()"
   ]
  },
  {
   "cell_type": "markdown",
   "id": "25ca0fff",
   "metadata": {},
   "source": [
    "<a id='neg'></a>\n",
    "\n",
    "### Filtering dataset to neglect negative values:"
   ]
  },
  {
   "cell_type": "code",
   "execution_count": 12,
   "id": "3096fbd6",
   "metadata": {},
   "outputs": [],
   "source": [
    "#Filtering dataset with quantity more than 0 as well as the unitprice \n",
    "\n",
    "df=df.query('Quantity>0 & UnitPrice>0')"
   ]
  },
  {
   "cell_type": "code",
   "execution_count": 13,
   "id": "88612e6c",
   "metadata": {},
   "outputs": [
    {
     "data": {
      "text/plain": [
       "1"
      ]
     },
     "execution_count": 13,
     "metadata": {},
     "output_type": "execute_result"
    }
   ],
   "source": [
    "#Making sure that our dataset is filtered correctly\n",
    "\n",
    "df['Quantity'] .min()"
   ]
  },
  {
   "cell_type": "code",
   "execution_count": 14,
   "id": "a153b6ae",
   "metadata": {},
   "outputs": [
    {
     "data": {
      "text/plain": [
       "0.001"
      ]
     },
     "execution_count": 14,
     "metadata": {},
     "output_type": "execute_result"
    }
   ],
   "source": [
    "#Next step, to ensure our dataset is filtered correctly\n",
    "\n",
    "df['UnitPrice'].min()"
   ]
  },
  {
   "cell_type": "markdown",
   "id": "bbf00954",
   "metadata": {},
   "source": [
    "<a id='change'></a>\n",
    "\n",
    "### Changing Datatypes:"
   ]
  },
  {
   "cell_type": "code",
   "execution_count": 15,
   "id": "e4a3cfce",
   "metadata": {},
   "outputs": [],
   "source": [
    "#Change InvoiceDate from string to Datetime\n",
    "\n",
    "df['InvoiceDate']=pd.to_datetime(df['InvoiceDate'])\n",
    "\n",
    "#Change CustomerID from float to int\n",
    "\n",
    "df['CustomerID']=df['CustomerID'].astype(int)\n",
    "\n",
    "#Change CustomerID from int to str\n",
    "\n",
    "df['CustomerID']=df['CustomerID'].astype(str)"
   ]
  },
  {
   "cell_type": "markdown",
   "id": "8b6ce2c1",
   "metadata": {},
   "source": [
    "<a id='add'></a>\n",
    "\n",
    "### Adding new columns:"
   ]
  },
  {
   "cell_type": "code",
   "execution_count": 16,
   "id": "f5c72c89",
   "metadata": {},
   "outputs": [],
   "source": [
    "#Adding total price column\n",
    "\n",
    "df['TotalItemsPrice']= df['Quantity']*df['UnitPrice']\n",
    "\n",
    "#Adding month column\n",
    "\n",
    "df['Month']=df['InvoiceDate'].dt.month_name()\n",
    "\n",
    "#Adding Year column\n",
    "\n",
    "df['Year']=df['InvoiceDate'].dt.year\n"
   ]
  },
  {
   "cell_type": "code",
   "execution_count": 17,
   "id": "35b158ec",
   "metadata": {},
   "outputs": [
    {
     "data": {
      "text/html": [
       "<div>\n",
       "<style scoped>\n",
       "    .dataframe tbody tr th:only-of-type {\n",
       "        vertical-align: middle;\n",
       "    }\n",
       "\n",
       "    .dataframe tbody tr th {\n",
       "        vertical-align: top;\n",
       "    }\n",
       "\n",
       "    .dataframe thead th {\n",
       "        text-align: right;\n",
       "    }\n",
       "</style>\n",
       "<table border=\"1\" class=\"dataframe\">\n",
       "  <thead>\n",
       "    <tr style=\"text-align: right;\">\n",
       "      <th></th>\n",
       "      <th>InvoiceNo</th>\n",
       "      <th>StockCode</th>\n",
       "      <th>Description</th>\n",
       "      <th>Quantity</th>\n",
       "      <th>InvoiceDate</th>\n",
       "      <th>UnitPrice</th>\n",
       "      <th>CustomerID</th>\n",
       "      <th>Country</th>\n",
       "      <th>TotalItemsPrice</th>\n",
       "      <th>Month</th>\n",
       "      <th>Year</th>\n",
       "    </tr>\n",
       "  </thead>\n",
       "  <tbody>\n",
       "    <tr>\n",
       "      <th>0</th>\n",
       "      <td>536365</td>\n",
       "      <td>85123A</td>\n",
       "      <td>WHITE HANGING HEART T-LIGHT HOLDER</td>\n",
       "      <td>6</td>\n",
       "      <td>2010-12-01 08:26:00</td>\n",
       "      <td>2.55</td>\n",
       "      <td>17850</td>\n",
       "      <td>United Kingdom</td>\n",
       "      <td>15.30</td>\n",
       "      <td>December</td>\n",
       "      <td>2010</td>\n",
       "    </tr>\n",
       "    <tr>\n",
       "      <th>1</th>\n",
       "      <td>536365</td>\n",
       "      <td>71053</td>\n",
       "      <td>WHITE METAL LANTERN</td>\n",
       "      <td>6</td>\n",
       "      <td>2010-12-01 08:26:00</td>\n",
       "      <td>3.39</td>\n",
       "      <td>17850</td>\n",
       "      <td>United Kingdom</td>\n",
       "      <td>20.34</td>\n",
       "      <td>December</td>\n",
       "      <td>2010</td>\n",
       "    </tr>\n",
       "    <tr>\n",
       "      <th>2</th>\n",
       "      <td>536365</td>\n",
       "      <td>84406B</td>\n",
       "      <td>CREAM CUPID HEARTS COAT HANGER</td>\n",
       "      <td>8</td>\n",
       "      <td>2010-12-01 08:26:00</td>\n",
       "      <td>2.75</td>\n",
       "      <td>17850</td>\n",
       "      <td>United Kingdom</td>\n",
       "      <td>22.00</td>\n",
       "      <td>December</td>\n",
       "      <td>2010</td>\n",
       "    </tr>\n",
       "    <tr>\n",
       "      <th>3</th>\n",
       "      <td>536365</td>\n",
       "      <td>84029G</td>\n",
       "      <td>KNITTED UNION FLAG HOT WATER BOTTLE</td>\n",
       "      <td>6</td>\n",
       "      <td>2010-12-01 08:26:00</td>\n",
       "      <td>3.39</td>\n",
       "      <td>17850</td>\n",
       "      <td>United Kingdom</td>\n",
       "      <td>20.34</td>\n",
       "      <td>December</td>\n",
       "      <td>2010</td>\n",
       "    </tr>\n",
       "    <tr>\n",
       "      <th>4</th>\n",
       "      <td>536365</td>\n",
       "      <td>84029E</td>\n",
       "      <td>RED WOOLLY HOTTIE WHITE HEART.</td>\n",
       "      <td>6</td>\n",
       "      <td>2010-12-01 08:26:00</td>\n",
       "      <td>3.39</td>\n",
       "      <td>17850</td>\n",
       "      <td>United Kingdom</td>\n",
       "      <td>20.34</td>\n",
       "      <td>December</td>\n",
       "      <td>2010</td>\n",
       "    </tr>\n",
       "  </tbody>\n",
       "</table>\n",
       "</div>"
      ],
      "text/plain": [
       "  InvoiceNo StockCode                          Description  Quantity  \\\n",
       "0    536365    85123A   WHITE HANGING HEART T-LIGHT HOLDER         6   \n",
       "1    536365     71053                  WHITE METAL LANTERN         6   \n",
       "2    536365    84406B       CREAM CUPID HEARTS COAT HANGER         8   \n",
       "3    536365    84029G  KNITTED UNION FLAG HOT WATER BOTTLE         6   \n",
       "4    536365    84029E       RED WOOLLY HOTTIE WHITE HEART.         6   \n",
       "\n",
       "          InvoiceDate  UnitPrice CustomerID         Country  TotalItemsPrice  \\\n",
       "0 2010-12-01 08:26:00       2.55      17850  United Kingdom            15.30   \n",
       "1 2010-12-01 08:26:00       3.39      17850  United Kingdom            20.34   \n",
       "2 2010-12-01 08:26:00       2.75      17850  United Kingdom            22.00   \n",
       "3 2010-12-01 08:26:00       3.39      17850  United Kingdom            20.34   \n",
       "4 2010-12-01 08:26:00       3.39      17850  United Kingdom            20.34   \n",
       "\n",
       "      Month  Year  \n",
       "0  December  2010  \n",
       "1  December  2010  \n",
       "2  December  2010  \n",
       "3  December  2010  \n",
       "4  December  2010  "
      ]
     },
     "execution_count": 17,
     "metadata": {},
     "output_type": "execute_result"
    }
   ],
   "source": [
    "df.head()"
   ]
  },
  {
   "cell_type": "markdown",
   "id": "2def7e6d",
   "metadata": {},
   "source": [
    "<a id='edit'></a>\n",
    "\n",
    "### Editing the Country column:"
   ]
  },
  {
   "cell_type": "code",
   "execution_count": 18,
   "id": "d39946b3",
   "metadata": {},
   "outputs": [],
   "source": [
    "#First we will remove unneccessary country names\n",
    "\n",
    "drop_countries=['Unspecified','European Community']  #Creating a list with the names we want to remove from our dataset\n",
    "\n",
    "drop_countries_index=list(df.query('Country ==@drop_countries').index) #Creating another list with the row index numbers to be removed \n",
    "\n",
    "df.drop(drop_countries_index,axis=0,inplace=True)\n"
   ]
  },
  {
   "cell_type": "code",
   "execution_count": 19,
   "id": "f65188b6",
   "metadata": {},
   "outputs": [],
   "source": [
    "#Second replacing some country names to make it easier to read\n",
    "\n",
    "df.replace(to_replace=['EIRE','RSA'],value=['Ireland','South Africa'],inplace=True)"
   ]
  },
  {
   "cell_type": "code",
   "execution_count": 20,
   "id": "f5e80874",
   "metadata": {},
   "outputs": [
    {
     "data": {
      "text/plain": [
       "United Kingdom          349203\n",
       "Germany                   9025\n",
       "France                    8326\n",
       "Ireland                   7226\n",
       "Spain                     2479\n",
       "Netherlands               2359\n",
       "Belgium                   2031\n",
       "Switzerland               1841\n",
       "Portugal                  1453\n",
       "Australia                 1181\n",
       "Norway                    1071\n",
       "Italy                      758\n",
       "Channel Islands            747\n",
       "Finland                    685\n",
       "Cyprus                     603\n",
       "Sweden                     450\n",
       "Austria                    398\n",
       "Denmark                    380\n",
       "Poland                     330\n",
       "Japan                      321\n",
       "Israel                     245\n",
       "Singapore                  222\n",
       "Iceland                    182\n",
       "USA                        179\n",
       "Canada                     151\n",
       "Greece                     145\n",
       "Malta                      112\n",
       "United Arab Emirates        68\n",
       "South Africa                57\n",
       "Lebanon                     45\n",
       "Lithuania                   35\n",
       "Brazil                      32\n",
       "Czech Republic              25\n",
       "Bahrain                     17\n",
       "Saudi Arabia                 9\n",
       "Name: Country, dtype: int64"
      ]
     },
     "execution_count": 20,
     "metadata": {},
     "output_type": "execute_result"
    }
   ],
   "source": [
    "#Making sure we have editted everything we need from our \n",
    "df['Country'].value_counts()"
   ]
  },
  {
   "cell_type": "code",
   "execution_count": 21,
   "id": "bd437ab5",
   "metadata": {},
   "outputs": [
    {
     "name": "stdout",
     "output_type": "stream",
     "text": [
      "<class 'pandas.core.frame.DataFrame'>\n",
      "Int64Index: 392391 entries, 0 to 541908\n",
      "Data columns (total 11 columns):\n",
      " #   Column           Non-Null Count   Dtype         \n",
      "---  ------           --------------   -----         \n",
      " 0   InvoiceNo        392391 non-null  object        \n",
      " 1   StockCode        392391 non-null  object        \n",
      " 2   Description      392391 non-null  object        \n",
      " 3   Quantity         392391 non-null  int64         \n",
      " 4   InvoiceDate      392391 non-null  datetime64[ns]\n",
      " 5   UnitPrice        392391 non-null  float64       \n",
      " 6   CustomerID       392391 non-null  object        \n",
      " 7   Country          392391 non-null  object        \n",
      " 8   TotalItemsPrice  392391 non-null  float64       \n",
      " 9   Month            392391 non-null  object        \n",
      " 10  Year             392391 non-null  int64         \n",
      "dtypes: datetime64[ns](1), float64(2), int64(2), object(6)\n",
      "memory usage: 35.9+ MB\n"
     ]
    }
   ],
   "source": [
    "df.info()"
   ]
  },
  {
   "cell_type": "markdown",
   "id": "4d6a07bb",
   "metadata": {},
   "source": [
    "*Our dataset is clean and we are now ready to preform analysis on this dataset*"
   ]
  },
  {
   "cell_type": "markdown",
   "id": "af0ad9d8",
   "metadata": {},
   "source": [
    "<a id='eda'></a>\n",
    "\n",
    "## EDA(Exploratary Data Analysis)\n"
   ]
  },
  {
   "cell_type": "markdown",
   "id": "eab430ac",
   "metadata": {},
   "source": [
    "<a id='Q1'></a>\n",
    "\n",
    "### Q1:Which countries made the most orders?and which country made the highest sales?"
   ]
  },
  {
   "cell_type": "code",
   "execution_count": 22,
   "id": "c0f20d0d",
   "metadata": {},
   "outputs": [
    {
     "data": {
      "image/png": "[encoded data removed]",
      "text/plain": [
       "<Figure size 432x288 with 1 Axes>"
      ]
     },
     "metadata": {
      "needs_background": "light"
     },
     "output_type": "display_data"
    }
   ],
   "source": [
    "#Top 5 countries with most orders \n",
    "\n",
    "df['Country'].value_counts()[:5].plot(kind='bar');"
   ]
  },
  {
   "cell_type": "code",
   "execution_count": 23,
   "id": "fdcc240f",
   "metadata": {},
   "outputs": [
    {
     "data": {
      "image/png": "[encoded data removed]",
      "text/plain": [
       "<Figure size 432x288 with 1 Axes>"
      ]
     },
     "metadata": {
      "needs_background": "light"
     },
     "output_type": "display_data"
    }
   ],
   "source": [
    "#Top 5 countries that had highest sales\n",
    "\n",
    "df.groupby('Country')['TotalItemsPrice'].sum().sort_values(ascending=False)[:5].plot(kind='bar');"
   ]
  },
  {
   "cell_type": "markdown",
   "id": "54073802",
   "metadata": {},
   "source": [
    "<a id='Q2'></a>\n",
    "\n",
    "### Q2: Which item was sold the most? and which items made the highest sales?"
   ]
  },
  {
   "cell_type": "code",
   "execution_count": 24,
   "id": "10ced426",
   "metadata": {},
   "outputs": [
    {
     "data": {
      "image/png": "[encoded data removed]",
      "text/plain": [
       "<Figure size 432x288 with 1 Axes>"
      ]
     },
     "metadata": {
      "needs_background": "light"
     },
     "output_type": "display_data"
    }
   ],
   "source": [
    "df.groupby('StockCode')['Quantity'].count().sort_values(ascending=False)[:5].plot(kind='bar');"
   ]
  },
  {
   "cell_type": "code",
   "execution_count": 25,
   "id": "051c1f75",
   "metadata": {},
   "outputs": [
    {
     "data": {
      "text/plain": [
       "'WHITE HANGING HEART T-LIGHT HOLDER'"
      ]
     },
     "execution_count": 25,
     "metadata": {},
     "output_type": "execute_result"
    }
   ],
   "source": [
    "df.query('StockCode==\"85123A\"')['Description'][0]"
   ]
  },
  {
   "cell_type": "code",
   "execution_count": 26,
   "id": "d871da0d",
   "metadata": {},
   "outputs": [
    {
     "data": {
      "image/png": "[encoded data removed]",
      "text/plain": [
       "<Figure size 432x288 with 1 Axes>"
      ]
     },
     "metadata": {
      "needs_background": "light"
     },
     "output_type": "display_data"
    }
   ],
   "source": [
    "df.groupby('StockCode')['TotalItemsPrice'].sum().sort_values(ascending=False)[:5].plot(kind='bar');"
   ]
  },
  {
   "cell_type": "code",
   "execution_count": 27,
   "id": "fabdf5ad",
   "metadata": {},
   "outputs": [
    {
     "data": {
      "text/plain": [
       "540421    PAPER CRAFT , LITTLE BIRDIE\n",
       "Name: Description, dtype: object"
      ]
     },
     "execution_count": 27,
     "metadata": {},
     "output_type": "execute_result"
    }
   ],
   "source": [
    "df.query('StockCode==\"23843\"')['Description']"
   ]
  },
  {
   "cell_type": "code",
   "execution_count": 28,
   "id": "b8f27f60",
   "metadata": {
    "scrolled": true
   },
   "outputs": [
    {
     "data": {
      "text/html": [
       "<div>\n",
       "<style scoped>\n",
       "    .dataframe tbody tr th:only-of-type {\n",
       "        vertical-align: middle;\n",
       "    }\n",
       "\n",
       "    .dataframe tbody tr th {\n",
       "        vertical-align: top;\n",
       "    }\n",
       "\n",
       "    .dataframe thead th {\n",
       "        text-align: right;\n",
       "    }\n",
       "</style>\n",
       "<table border=\"1\" class=\"dataframe\">\n",
       "  <thead>\n",
       "    <tr style=\"text-align: right;\">\n",
       "      <th></th>\n",
       "      <th>InvoiceNo</th>\n",
       "      <th>StockCode</th>\n",
       "      <th>Description</th>\n",
       "      <th>Quantity</th>\n",
       "      <th>InvoiceDate</th>\n",
       "      <th>UnitPrice</th>\n",
       "      <th>CustomerID</th>\n",
       "      <th>Country</th>\n",
       "      <th>TotalItemsPrice</th>\n",
       "      <th>Month</th>\n",
       "      <th>Year</th>\n",
       "    </tr>\n",
       "  </thead>\n",
       "  <tbody>\n",
       "    <tr>\n",
       "      <th>540421</th>\n",
       "      <td>581483</td>\n",
       "      <td>23843</td>\n",
       "      <td>PAPER CRAFT , LITTLE BIRDIE</td>\n",
       "      <td>80995</td>\n",
       "      <td>2011-12-09 09:15:00</td>\n",
       "      <td>2.08</td>\n",
       "      <td>16446</td>\n",
       "      <td>United Kingdom</td>\n",
       "      <td>168469.6</td>\n",
       "      <td>December</td>\n",
       "      <td>2011</td>\n",
       "    </tr>\n",
       "  </tbody>\n",
       "</table>\n",
       "</div>"
      ],
      "text/plain": [
       "       InvoiceNo StockCode                  Description  Quantity  \\\n",
       "540421    581483     23843  PAPER CRAFT , LITTLE BIRDIE     80995   \n",
       "\n",
       "               InvoiceDate  UnitPrice CustomerID         Country  \\\n",
       "540421 2011-12-09 09:15:00       2.08      16446  United Kingdom   \n",
       "\n",
       "        TotalItemsPrice     Month  Year  \n",
       "540421         168469.6  December  2011  "
      ]
     },
     "execution_count": 28,
     "metadata": {},
     "output_type": "execute_result"
    }
   ],
   "source": [
    "df.query('StockCode==\"23843\"')"
   ]
  },
  {
   "cell_type": "markdown",
   "id": "1b064f68",
   "metadata": {},
   "source": [
    "<a id='Q3'></a>\n",
    "\n",
    "### Q3: Which Customer made the most purchases? and which customer spent the most? "
   ]
  },
  {
   "cell_type": "code",
   "execution_count": 29,
   "id": "cc9755b8",
   "metadata": {},
   "outputs": [
    {
     "data": {
      "image/png": "[encoded data removed]",
      "text/plain": [
       "<Figure size 432x288 with 1 Axes>"
      ]
     },
     "metadata": {
      "needs_background": "light"
     },
     "output_type": "display_data"
    }
   ],
   "source": [
    "df['CustomerID'].value_counts()[:5].plot(kind='bar');"
   ]
  },
  {
   "cell_type": "code",
   "execution_count": 30,
   "id": "82c8de25",
   "metadata": {},
   "outputs": [
    {
     "data": {
      "image/png": "[encoded data removed]",
      "text/plain": [
       "<Figure size 432x288 with 1 Axes>"
      ]
     },
     "metadata": {
      "needs_background": "light"
     },
     "output_type": "display_data"
    }
   ],
   "source": [
    "df.groupby('CustomerID')['TotalItemsPrice'].sum()[:5].sort_values(ascending=False).plot(kind='bar');"
   ]
  },
  {
   "cell_type": "markdown",
   "id": "01a5df30",
   "metadata": {},
   "source": [
    "<a id='Q4'></a>\n",
    "\n",
    "### Q4:Which year had the most sales? and which month in that year?"
   ]
  },
  {
   "cell_type": "code",
   "execution_count": 31,
   "id": "7a009ef5",
   "metadata": {},
   "outputs": [
    {
     "data": {
      "image/png": "[encoded data removed]",
      "text/plain": [
       "<Figure size 432x288 with 1 Axes>"
      ]
     },
     "metadata": {
      "needs_background": "light"
     },
     "output_type": "display_data"
    }
   ],
   "source": [
    "df.groupby('Year')['TotalItemsPrice'].sum().plot(kind='bar');"
   ]
  },
  {
   "cell_type": "code",
   "execution_count": 32,
   "id": "1a9f7a29",
   "metadata": {},
   "outputs": [
    {
     "data": {
      "image/png": "[encoded data removed]",
      "text/plain": [
       "<Figure size 432x288 with 1 Axes>"
      ]
     },
     "metadata": {
      "needs_background": "light"
     },
     "output_type": "display_data"
    }
   ],
   "source": [
    "df[df['Year']==2011].groupby('Month')['TotalItemsPrice'].sum().sort_values(ascending=False).plot(kind='bar');"
   ]
  },
  {
   "cell_type": "markdown",
   "id": "8a44d12a",
   "metadata": {},
   "source": [
    "<a id='RFM'></a>\n",
    "\n",
    "## RFM Analysis and Customer Segmentation"
   ]
  },
  {
   "cell_type": "markdown",
   "id": "1740a44b",
   "metadata": {},
   "source": [
    "#### What is RFM (recency, frequency, monetary) analysis?\n",
    "\n",
    ">RFM analysis is a marketing technique used to quantitatively rank and group customers based on the recency, frequency and monetary total of their recent transactions to identify the best customers and perform targeted marketing campaigns. The system assigns each customer numerical scores based on these factors to provide an objective analysis. RFM analysis is based on the marketing adage that \"80% of your business comes from 20% of your customers.\"\n",
    "\n",
    "**RFM analysis ranks each customer on the following factors:**\n",
    "\n",
    " **Recency**. How recent was the customer's last purchase? Customers who recently made a purchase will still have the product on their mind and are more likely to purchase or use the product again. Businesses often measure recency in days. But, depending on the product, they may measure it in years, weeks or even hours.\n",
    "\n",
    " **Frequency**. How often did this customer make a purchase in a given period? Customers who purchased once are often are more likely to purchase again. Additionally, first time customers may be good targets for follow-up advertising to convert them into more frequent customers.\n",
    "\n",
    " **Monetary**. How much money did the customer spend in a given period? Customers who spend a lot of money are more likely to spend money in the future and have a high value to a business.\n",
    " \n",
    " **After performing the RFM analysis we shall divide our customers into the following groups:**\n",
    " \n",
    "   **Best Customers** Highly engaged customers who have bought the most recent, the most often, and generated the most revenue.\n",
    "   \n",
    "   **Loyal Customers** Customers who buy the most often from your store.\n",
    "   \n",
    "   **Whales** Highest Paying Customers, Customers who have generated the most revenue for your store.\n",
    "    \n",
    "   **Promising** Customers who return often, but do not spend a lot.\n",
    "   \n",
    "   **Rookies** Newest Customers\n",
    "   \n",
    "   **Slipping** Once loyal,now gone customers\n",
    "   \n",
    "  "
   ]
  },
  {
   "cell_type": "code",
   "execution_count": 33,
   "id": "9906e949",
   "metadata": {},
   "outputs": [],
   "source": [
    "#Creating a new dataframe to add our RFM scores to\n",
    "\n",
    "df_RFM=df[['CustomerID']].copy()\n"
   ]
  },
  {
   "cell_type": "code",
   "execution_count": 34,
   "id": "edadf5e7",
   "metadata": {},
   "outputs": [],
   "source": [
    "\"\"\"\n",
    "To calculate Recency\n",
    "\n",
    "As it turns out that 2011 has records from January till December. \n",
    "Our aim is to give each customer a score out of 5 for how recent their last purchase was\n",
    "\n",
    "5- if a customer made the last purhchase from October till December 2011\n",
    "4-if a cusotmer made their last purchase from July till September 2011\n",
    "3- if a customer made their last purchase from April till June 2011\n",
    "2- if a customer made their last purchase from January till March 2011\n",
    "1- if a customer made their last purchase last year in 2010\n",
    "\"\"\"\n",
    "\n",
    "def recency(year,month):\n",
    "    if (year==2011) & (month in ['October','November','December']):\n",
    "        \n",
    "            rec_score=5\n",
    "            \n",
    "    elif (year ==2011) & (month in ['July','August','September']):\n",
    "        \n",
    "            rec_score=4\n",
    "            \n",
    "    elif (year== 2011) & (month in ['April','May','June']):\n",
    "        \n",
    "            rec_score=3\n",
    "            \n",
    "    elif (year== 2011) & (month in ['January','February','March']):\n",
    "        \n",
    "            rec_score=2\n",
    "            \n",
    "    elif (year==2010):\n",
    "        \n",
    "        rec_score=1\n",
    "        \n",
    "    return rec_score\n",
    "\n",
    "#Creating a list of years and months\n",
    "\n",
    "years=list(df['Year'].values)\n",
    "months=list(df['Month'].values)\n",
    "\n",
    "#Creating a new list of scores and using our new function\n",
    "scores=[]\n",
    "for year,month in zip(years,months):\n",
    "        score= recency(year,month)\n",
    "        scores.append(score)\n",
    "\n",
    "#Adding list of scores to our new dataframe\n",
    "df_RFM['Rec_Score']=scores\n"
   ]
  },
  {
   "cell_type": "code",
   "execution_count": 35,
   "id": "c0a2ee02",
   "metadata": {},
   "outputs": [
    {
     "data": {
      "text/html": [
       "<div>\n",
       "<style scoped>\n",
       "    .dataframe tbody tr th:only-of-type {\n",
       "        vertical-align: middle;\n",
       "    }\n",
       "\n",
       "    .dataframe tbody tr th {\n",
       "        vertical-align: top;\n",
       "    }\n",
       "\n",
       "    .dataframe thead th {\n",
       "        text-align: right;\n",
       "    }\n",
       "</style>\n",
       "<table border=\"1\" class=\"dataframe\">\n",
       "  <thead>\n",
       "    <tr style=\"text-align: right;\">\n",
       "      <th></th>\n",
       "      <th>CustomerID</th>\n",
       "      <th>Rec_Score</th>\n",
       "    </tr>\n",
       "  </thead>\n",
       "  <tbody>\n",
       "    <tr>\n",
       "      <th>0</th>\n",
       "      <td>17850</td>\n",
       "      <td>1</td>\n",
       "    </tr>\n",
       "    <tr>\n",
       "      <th>1</th>\n",
       "      <td>17850</td>\n",
       "      <td>1</td>\n",
       "    </tr>\n",
       "    <tr>\n",
       "      <th>2</th>\n",
       "      <td>17850</td>\n",
       "      <td>1</td>\n",
       "    </tr>\n",
       "    <tr>\n",
       "      <th>3</th>\n",
       "      <td>17850</td>\n",
       "      <td>1</td>\n",
       "    </tr>\n",
       "    <tr>\n",
       "      <th>4</th>\n",
       "      <td>17850</td>\n",
       "      <td>1</td>\n",
       "    </tr>\n",
       "  </tbody>\n",
       "</table>\n",
       "</div>"
      ],
      "text/plain": [
       "  CustomerID  Rec_Score\n",
       "0      17850          1\n",
       "1      17850          1\n",
       "2      17850          1\n",
       "3      17850          1\n",
       "4      17850          1"
      ]
     },
     "execution_count": 35,
     "metadata": {},
     "output_type": "execute_result"
    }
   ],
   "source": [
    "#Each ID has more than one record so we will to filter our dataset to have only one ID per record\n",
    "\n",
    "df_RFM.head()"
   ]
  },
  {
   "cell_type": "code",
   "execution_count": 36,
   "id": "374126fa",
   "metadata": {},
   "outputs": [],
   "source": [
    "\n",
    "unique_IDS= list(df['CustomerID'].unique()) #getting a list with unique IDS\n",
    "indexes=[] #creating a list of indexes\n",
    "\n",
    "for ID in unique_IDS:\n",
    "    #Since our dataframe is sorted according to purchase date then we only need to find the score of the latest purchase\n",
    "    #So we will find the index number of the last entry of this ID\n",
    "    index= df_RFM[df_RFM['CustomerID']==ID].index[-1]\n",
    "    indexes.append(index)\n"
   ]
  },
  {
   "cell_type": "code",
   "execution_count": 37,
   "id": "065f7ff3",
   "metadata": {},
   "outputs": [],
   "source": [
    "df_RFM=df_RFM.loc[indexes] #Filtering our dataframe"
   ]
  },
  {
   "cell_type": "code",
   "execution_count": 38,
   "id": "bdb3bf25",
   "metadata": {},
   "outputs": [
    {
     "data": {
      "text/html": [
       "<div>\n",
       "<style scoped>\n",
       "    .dataframe tbody tr th:only-of-type {\n",
       "        vertical-align: middle;\n",
       "    }\n",
       "\n",
       "    .dataframe tbody tr th {\n",
       "        vertical-align: top;\n",
       "    }\n",
       "\n",
       "    .dataframe thead th {\n",
       "        text-align: right;\n",
       "    }\n",
       "</style>\n",
       "<table border=\"1\" class=\"dataframe\">\n",
       "  <thead>\n",
       "    <tr style=\"text-align: right;\">\n",
       "      <th></th>\n",
       "      <th>CustomerID</th>\n",
       "      <th>Rec_Score</th>\n",
       "    </tr>\n",
       "  </thead>\n",
       "  <tbody>\n",
       "    <tr>\n",
       "      <th>4544</th>\n",
       "      <td>17850</td>\n",
       "      <td>1</td>\n",
       "    </tr>\n",
       "    <tr>\n",
       "      <th>448287</th>\n",
       "      <td>13047</td>\n",
       "      <td>5</td>\n",
       "    </tr>\n",
       "    <tr>\n",
       "      <th>532936</th>\n",
       "      <td>12583</td>\n",
       "      <td>5</td>\n",
       "    </tr>\n",
       "    <tr>\n",
       "      <th>325961</th>\n",
       "      <td>13748</td>\n",
       "      <td>4</td>\n",
       "    </tr>\n",
       "    <tr>\n",
       "      <th>50848</th>\n",
       "      <td>15100</td>\n",
       "      <td>2</td>\n",
       "    </tr>\n",
       "  </tbody>\n",
       "</table>\n",
       "</div>"
      ],
      "text/plain": [
       "       CustomerID  Rec_Score\n",
       "4544        17850          1\n",
       "448287      13047          5\n",
       "532936      12583          5\n",
       "325961      13748          4\n",
       "50848       15100          2"
      ]
     },
     "execution_count": 38,
     "metadata": {},
     "output_type": "execute_result"
    }
   ],
   "source": [
    "df_RFM.head()"
   ]
  },
  {
   "cell_type": "code",
   "execution_count": 39,
   "id": "8189006b",
   "metadata": {},
   "outputs": [
    {
     "data": {
      "text/plain": [
       "count    4333.000000\n",
       "mean       90.558735\n",
       "std       225.630999\n",
       "min         1.000000\n",
       "25%        17.000000\n",
       "50%        41.000000\n",
       "75%        98.000000\n",
       "max      7676.000000\n",
       "Name: CustomerID, dtype: float64"
      ]
     },
     "execution_count": 39,
     "metadata": {},
     "output_type": "execute_result"
    }
   ],
   "source": [
    "\"\"\"\n",
    "To calculate Frequency:\n",
    "\n",
    "Now we want to know how many times did each customer do a purhcase and give them a score out of 5.\n",
    "In order to find this we must know a figure of how frquently do customer doa purchase.\n",
    "As we only have data foor 2010 and 2011, so we will calculating the frequency in this period\n",
    "\n",
    "\"\"\"\n",
    "df['CustomerID'].value_counts().describe()"
   ]
  },
  {
   "cell_type": "code",
   "execution_count": 40,
   "id": "6aef9b9f",
   "metadata": {},
   "outputs": [],
   "source": [
    "\"\"\"\n",
    "\n",
    "As it shows the maximum is 7676\n",
    "75% is 98\n",
    "50% is 41\n",
    "25% is 17\n",
    "the minimum is 1 \n",
    "and the mean is 90\n",
    "\n",
    "if frequency of purchase is more than 1000 the score is 5\n",
    "if frequency of purchase is between 1000 and 90 the score is 4\n",
    "if frequency of purhcase is between 90 and 41 the score is 3\n",
    "if frequncy of purchase is between 41 and 17 the score is 2\n",
    "if frequency of purchase is less than 17 the score is 1  \n",
    "\"\"\"\n",
    "CustomerID=df.CustomerID.value_counts().index\n",
    "Frequency=df.CustomerID.value_counts().values\n",
    "\n",
    "score_list=[]\n",
    "\n",
    "for value in Frequency:\n",
    "    if value >= 1000:\n",
    "        score=5\n",
    "    elif value < 1000 and value >=90:\n",
    "        score=4\n",
    "    elif value < 90 and value >=41:\n",
    "        score=3\n",
    "    elif value < 41 and value >=17:\n",
    "        score=2\n",
    "    elif value < 17:\n",
    "        score=1\n",
    "    score_list.append(score)"
   ]
  },
  {
   "cell_type": "code",
   "execution_count": 41,
   "id": "ec872c3f",
   "metadata": {},
   "outputs": [],
   "source": [
    "dict = {'CustomerID': CustomerID,'Freq_score': score_list}\n",
    "df_freq=pd.DataFrame(dict)"
   ]
  },
  {
   "cell_type": "code",
   "execution_count": 42,
   "id": "8ebdfbac",
   "metadata": {},
   "outputs": [
    {
     "data": {
      "text/html": [
       "<div>\n",
       "<style scoped>\n",
       "    .dataframe tbody tr th:only-of-type {\n",
       "        vertical-align: middle;\n",
       "    }\n",
       "\n",
       "    .dataframe tbody tr th {\n",
       "        vertical-align: top;\n",
       "    }\n",
       "\n",
       "    .dataframe thead th {\n",
       "        text-align: right;\n",
       "    }\n",
       "</style>\n",
       "<table border=\"1\" class=\"dataframe\">\n",
       "  <thead>\n",
       "    <tr style=\"text-align: right;\">\n",
       "      <th></th>\n",
       "      <th>CustomerID</th>\n",
       "      <th>Freq_score</th>\n",
       "    </tr>\n",
       "  </thead>\n",
       "  <tbody>\n",
       "    <tr>\n",
       "      <th>0</th>\n",
       "      <td>17841</td>\n",
       "      <td>5</td>\n",
       "    </tr>\n",
       "    <tr>\n",
       "      <th>1</th>\n",
       "      <td>14911</td>\n",
       "      <td>5</td>\n",
       "    </tr>\n",
       "    <tr>\n",
       "      <th>2</th>\n",
       "      <td>14096</td>\n",
       "      <td>5</td>\n",
       "    </tr>\n",
       "    <tr>\n",
       "      <th>3</th>\n",
       "      <td>12748</td>\n",
       "      <td>5</td>\n",
       "    </tr>\n",
       "    <tr>\n",
       "      <th>4</th>\n",
       "      <td>14606</td>\n",
       "      <td>5</td>\n",
       "    </tr>\n",
       "  </tbody>\n",
       "</table>\n",
       "</div>"
      ],
      "text/plain": [
       "  CustomerID  Freq_score\n",
       "0      17841           5\n",
       "1      14911           5\n",
       "2      14096           5\n",
       "3      12748           5\n",
       "4      14606           5"
      ]
     },
     "execution_count": 42,
     "metadata": {},
     "output_type": "execute_result"
    }
   ],
   "source": [
    "df_freq.head()"
   ]
  },
  {
   "cell_type": "code",
   "execution_count": 43,
   "id": "c093233b",
   "metadata": {},
   "outputs": [],
   "source": [
    "#Adding Frequency scores to RFM dataframe \n",
    "\n",
    "df_RFM=pd.merge(df_RFM,df_freq,on='CustomerID',how='inner')\n"
   ]
  },
  {
   "cell_type": "code",
   "execution_count": 44,
   "id": "de3b9d04",
   "metadata": {},
   "outputs": [
    {
     "data": {
      "text/html": [
       "<div>\n",
       "<style scoped>\n",
       "    .dataframe tbody tr th:only-of-type {\n",
       "        vertical-align: middle;\n",
       "    }\n",
       "\n",
       "    .dataframe tbody tr th {\n",
       "        vertical-align: top;\n",
       "    }\n",
       "\n",
       "    .dataframe thead th {\n",
       "        text-align: right;\n",
       "    }\n",
       "</style>\n",
       "<table border=\"1\" class=\"dataframe\">\n",
       "  <thead>\n",
       "    <tr style=\"text-align: right;\">\n",
       "      <th></th>\n",
       "      <th>CustomerID</th>\n",
       "      <th>Rec_Score</th>\n",
       "      <th>Freq_score</th>\n",
       "    </tr>\n",
       "  </thead>\n",
       "  <tbody>\n",
       "    <tr>\n",
       "      <th>0</th>\n",
       "      <td>17850</td>\n",
       "      <td>1</td>\n",
       "      <td>4</td>\n",
       "    </tr>\n",
       "    <tr>\n",
       "      <th>1</th>\n",
       "      <td>13047</td>\n",
       "      <td>5</td>\n",
       "      <td>4</td>\n",
       "    </tr>\n",
       "    <tr>\n",
       "      <th>2</th>\n",
       "      <td>12583</td>\n",
       "      <td>5</td>\n",
       "      <td>4</td>\n",
       "    </tr>\n",
       "    <tr>\n",
       "      <th>3</th>\n",
       "      <td>13748</td>\n",
       "      <td>4</td>\n",
       "      <td>2</td>\n",
       "    </tr>\n",
       "    <tr>\n",
       "      <th>4</th>\n",
       "      <td>15100</td>\n",
       "      <td>2</td>\n",
       "      <td>1</td>\n",
       "    </tr>\n",
       "  </tbody>\n",
       "</table>\n",
       "</div>"
      ],
      "text/plain": [
       "  CustomerID  Rec_Score  Freq_score\n",
       "0      17850          1           4\n",
       "1      13047          5           4\n",
       "2      12583          5           4\n",
       "3      13748          4           2\n",
       "4      15100          2           1"
      ]
     },
     "execution_count": 44,
     "metadata": {},
     "output_type": "execute_result"
    }
   ],
   "source": [
    "df_RFM.head()"
   ]
  },
  {
   "cell_type": "code",
   "execution_count": 45,
   "id": "7b031f5c",
   "metadata": {},
   "outputs": [
    {
     "data": {
      "text/plain": [
       "count      4333.000000\n",
       "mean       2050.137982\n",
       "std        8990.306118\n",
       "min           3.750000\n",
       "25%         306.450000\n",
       "50%         668.580000\n",
       "75%        1660.900000\n",
       "max      280206.020000\n",
       "Name: TotalItemsPrice, dtype: float64"
      ]
     },
     "execution_count": 45,
     "metadata": {},
     "output_type": "execute_result"
    }
   ],
   "source": [
    "\"\"\"\n",
    "To Calculate Monetary we will want to know how much did a customer pay in a given period\n",
    "\n",
    "We have already calculated it before on a chart but we want to add scores accordingly. So first we will need \n",
    "to know find out more of total purchases of each customer\n",
    "\n",
    "\"\"\"\n",
    "df.groupby('CustomerID')['TotalItemsPrice'].sum().describe()"
   ]
  },
  {
   "cell_type": "code",
   "execution_count": 46,
   "id": "5ed4c047",
   "metadata": {},
   "outputs": [],
   "source": [
    "\"\"\"\n",
    "Customers who spent more than 10,000 get a score of 5\n",
    "Customers who spent between 10,000 and 5000 get a score of 4\n",
    "Customers who spent between 5000 and 1000 get a score of 3\n",
    "Customer who spent between 1000 and 500 get a score of 2\n",
    "Customers who spent less than 500 get a score of 1 \n",
    "\"\"\"\n",
    "\n",
    "score_list1=[]\n",
    "values=list(df.groupby('CustomerID')['TotalItemsPrice'].sum().values)\n",
    "customerid=list((df.groupby('CustomerID')['TotalItemsPrice'].sum().index))\n",
    "\n",
    "for value in values:\n",
    "    if value >= 10000:\n",
    "        score1=5\n",
    "    elif value < 10000 and value>=5000:\n",
    "        score1=4\n",
    "    elif value < 5000 and value >=1000:\n",
    "        score1=3\n",
    "    elif value < 1000 and value >=500:\n",
    "        score1=2\n",
    "    elif value <500:\n",
    "        score1=1\n",
    "    score_list1.append(score1)    "
   ]
  },
  {
   "cell_type": "code",
   "execution_count": 47,
   "id": "c7cdd899",
   "metadata": {},
   "outputs": [],
   "source": [
    "dict1 = {'CustomerID': customerid,'Mon_score': score_list1}\n",
    "\n",
    "df_mon=pd.DataFrame(dict1)\n"
   ]
  },
  {
   "cell_type": "code",
   "execution_count": 48,
   "id": "3a807440",
   "metadata": {},
   "outputs": [],
   "source": [
    "df_RFM= pd.merge(df_RFM,df_mon,on='CustomerID',how='inner')"
   ]
  },
  {
   "cell_type": "code",
   "execution_count": 49,
   "id": "f52b984c",
   "metadata": {},
   "outputs": [
    {
     "data": {
      "text/html": [
       "<div>\n",
       "<style scoped>\n",
       "    .dataframe tbody tr th:only-of-type {\n",
       "        vertical-align: middle;\n",
       "    }\n",
       "\n",
       "    .dataframe tbody tr th {\n",
       "        vertical-align: top;\n",
       "    }\n",
       "\n",
       "    .dataframe thead th {\n",
       "        text-align: right;\n",
       "    }\n",
       "</style>\n",
       "<table border=\"1\" class=\"dataframe\">\n",
       "  <thead>\n",
       "    <tr style=\"text-align: right;\">\n",
       "      <th></th>\n",
       "      <th>CustomerID</th>\n",
       "      <th>Rec_Score</th>\n",
       "      <th>Freq_score</th>\n",
       "      <th>Mon_score</th>\n",
       "    </tr>\n",
       "  </thead>\n",
       "  <tbody>\n",
       "    <tr>\n",
       "      <th>0</th>\n",
       "      <td>17850</td>\n",
       "      <td>1</td>\n",
       "      <td>4</td>\n",
       "      <td>4</td>\n",
       "    </tr>\n",
       "    <tr>\n",
       "      <th>1</th>\n",
       "      <td>13047</td>\n",
       "      <td>5</td>\n",
       "      <td>4</td>\n",
       "      <td>3</td>\n",
       "    </tr>\n",
       "    <tr>\n",
       "      <th>2</th>\n",
       "      <td>12583</td>\n",
       "      <td>5</td>\n",
       "      <td>4</td>\n",
       "      <td>4</td>\n",
       "    </tr>\n",
       "    <tr>\n",
       "      <th>3</th>\n",
       "      <td>13748</td>\n",
       "      <td>4</td>\n",
       "      <td>2</td>\n",
       "      <td>2</td>\n",
       "    </tr>\n",
       "    <tr>\n",
       "      <th>4</th>\n",
       "      <td>15100</td>\n",
       "      <td>2</td>\n",
       "      <td>1</td>\n",
       "      <td>2</td>\n",
       "    </tr>\n",
       "  </tbody>\n",
       "</table>\n",
       "</div>"
      ],
      "text/plain": [
       "  CustomerID  Rec_Score  Freq_score  Mon_score\n",
       "0      17850          1           4          4\n",
       "1      13047          5           4          3\n",
       "2      12583          5           4          4\n",
       "3      13748          4           2          2\n",
       "4      15100          2           1          2"
      ]
     },
     "execution_count": 49,
     "metadata": {},
     "output_type": "execute_result"
    }
   ],
   "source": [
    "df_RFM.head()"
   ]
  },
  {
   "cell_type": "code",
   "execution_count": 50,
   "id": "89f954de",
   "metadata": {},
   "outputs": [],
   "source": [
    "\"\"\"\n",
    "We shall divide our customers to six segments.\n",
    "\n",
    "We will create a function that takes the 3 scores from our dataframe and categorizes which segment the customer belongs\n",
    "to \n",
    "the function then returns the customer segment that we shall later add to our dataframe\n",
    "\"\"\"\n",
    "\n",
    "def segmentation(rec_score,freq_score,mon_score): \n",
    "\n",
    "    if (rec_score==5) & (freq_score==5)& (mon_score==5):\n",
    "        \n",
    "        segment='Best Customers'\n",
    "        \n",
    "    elif (freq_score in (4,5)) &(mon_score in(5,4)):\n",
    "        \n",
    "        segment='Loyal Customer'\n",
    "\n",
    "    elif (mon_score in(5,4)):\n",
    "        \n",
    "        segment='Whales'\n",
    "    \n",
    "    elif (freq_score in (5,4)) & (mon_score in (1,2,3)):\n",
    "        \n",
    "        segment='Promising Customers'\n",
    "        \n",
    "    elif (rec_score in(5,4))& (freq_score in(1,2,3)):\n",
    "        \n",
    "        segment='Rookies'\n",
    "        \n",
    "    elif (rec_score in(1,2,3))&(freq_score in(1,2,3)):\n",
    "        segment='Slipping'\n",
    "        \n",
    "    elif (rec_score in (5,4,3,2,1)) & (freq_score in (5,4,3,2,1)) & (mon_score in (5,4,3,2,1)):\n",
    "        segment=' No Segment'\n",
    "    return segment "
   ]
  },
  {
   "cell_type": "code",
   "execution_count": 51,
   "id": "76c763ac",
   "metadata": {},
   "outputs": [
    {
     "data": {
      "text/plain": [
       "'Loyal Customer'"
      ]
     },
     "execution_count": 51,
     "metadata": {},
     "output_type": "execute_result"
    }
   ],
   "source": [
    "segmentation(1,4,4)"
   ]
  },
  {
   "cell_type": "code",
   "execution_count": 52,
   "id": "a73644a4",
   "metadata": {},
   "outputs": [],
   "source": [
    "rec_scores=list(df_RFM['Rec_Score'].values)\n",
    "freq_scores=list(df_RFM['Freq_score'].values)\n",
    "mon_scores=list(df_RFM['Mon_score'].values)\n",
    "\n",
    "customer_segment=[]\n",
    "for rec_score,freq_score,mon_score in zip(rec_scores,freq_scores,mon_scores):\n",
    "    segment=segmentation(rec_score,freq_score,mon_score)\n",
    "    customer_segment.append(segment)\n",
    "    \n",
    "df_RFM['Customer_Segment']=customer_segment"
   ]
  },
  {
   "cell_type": "code",
   "execution_count": 53,
   "id": "3d397c84",
   "metadata": {},
   "outputs": [
    {
     "data": {
      "text/html": [
       "<div>\n",
       "<style scoped>\n",
       "    .dataframe tbody tr th:only-of-type {\n",
       "        vertical-align: middle;\n",
       "    }\n",
       "\n",
       "    .dataframe tbody tr th {\n",
       "        vertical-align: top;\n",
       "    }\n",
       "\n",
       "    .dataframe thead th {\n",
       "        text-align: right;\n",
       "    }\n",
       "</style>\n",
       "<table border=\"1\" class=\"dataframe\">\n",
       "  <thead>\n",
       "    <tr style=\"text-align: right;\">\n",
       "      <th></th>\n",
       "      <th>CustomerID</th>\n",
       "      <th>Rec_Score</th>\n",
       "      <th>Freq_score</th>\n",
       "      <th>Mon_score</th>\n",
       "      <th>Customer_Segment</th>\n",
       "    </tr>\n",
       "  </thead>\n",
       "  <tbody>\n",
       "    <tr>\n",
       "      <th>0</th>\n",
       "      <td>17850</td>\n",
       "      <td>1</td>\n",
       "      <td>4</td>\n",
       "      <td>4</td>\n",
       "      <td>Loyal Customer</td>\n",
       "    </tr>\n",
       "    <tr>\n",
       "      <th>1</th>\n",
       "      <td>13047</td>\n",
       "      <td>5</td>\n",
       "      <td>4</td>\n",
       "      <td>3</td>\n",
       "      <td>Promising Customers</td>\n",
       "    </tr>\n",
       "    <tr>\n",
       "      <th>2</th>\n",
       "      <td>12583</td>\n",
       "      <td>5</td>\n",
       "      <td>4</td>\n",
       "      <td>4</td>\n",
       "      <td>Loyal Customer</td>\n",
       "    </tr>\n",
       "    <tr>\n",
       "      <th>3</th>\n",
       "      <td>13748</td>\n",
       "      <td>4</td>\n",
       "      <td>2</td>\n",
       "      <td>2</td>\n",
       "      <td>Rookies</td>\n",
       "    </tr>\n",
       "    <tr>\n",
       "      <th>4</th>\n",
       "      <td>15100</td>\n",
       "      <td>2</td>\n",
       "      <td>1</td>\n",
       "      <td>2</td>\n",
       "      <td>Slipping</td>\n",
       "    </tr>\n",
       "  </tbody>\n",
       "</table>\n",
       "</div>"
      ],
      "text/plain": [
       "  CustomerID  Rec_Score  Freq_score  Mon_score     Customer_Segment\n",
       "0      17850          1           4          4       Loyal Customer\n",
       "1      13047          5           4          3  Promising Customers\n",
       "2      12583          5           4          4       Loyal Customer\n",
       "3      13748          4           2          2              Rookies\n",
       "4      15100          2           1          2             Slipping"
      ]
     },
     "execution_count": 53,
     "metadata": {},
     "output_type": "execute_result"
    }
   ],
   "source": [
    "df_RFM.head()"
   ]
  },
  {
   "cell_type": "code",
   "execution_count": 56,
   "id": "46bcbf0a",
   "metadata": {},
   "outputs": [],
   "source": [
    "#Saving both dataframes to an excel file\n",
    "\n",
    "#with pd.ExcelWriter('RFMAnalysis.xlsx') as writer:\n",
    "    #df.to_excel(writer, sheet_name='RawCleanData',index=False)\n",
    "    #df_RFM.to_excel(writer, sheet_name='RFM',index=False)"
   ]
  },
  {
   "cell_type": "code",
   "execution_count": null,
   "id": "84872c6a",
   "metadata": {},
   "outputs": [],
   "source": []
  }
 ],
 "metadata": {
  "kernelspec": {
   "display_name": "Python 3 (ipykernel)",
   "language": "python",
   "name": "python3"
  },
  "language_info": {
   "codemirror_mode": {
    "name": "ipython",
    "version": 3
   },
   "file_extension": ".py",
   "mimetype": "text/x-python",
   "name": "python",
   "nbconvert_exporter": "python",
   "pygments_lexer": "ipython3",
   "version": "3.9.7"
  }
 },
 "nbformat": 4,
 "nbformat_minor": 5
}
